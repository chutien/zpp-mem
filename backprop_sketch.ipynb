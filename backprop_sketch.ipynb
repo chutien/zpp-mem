{
 "cells": [
  {
   "cell_type": "code",
   "execution_count": null,
   "metadata": {},
   "outputs": [],
   "source": [
    "import tensorflow as tf\n",
    "\n",
    "from tensorflow.examples.tutorials.mnist import input_data\n",
    "mnist = input_data.read_data_sets(\"MNIST_data/\", one_hot=True)\n",
    "\n",
    "input_size = 784\n",
    "output_size = 10\n",
    "x = tf.placeholder(tf.float32, [None, input_size])\n",
    "y = tf.placeholder(tf.float32, [None, output_size])"
   ]
  },
  {
   "cell_type": "code",
   "execution_count": null,
   "metadata": {},
   "outputs": [],
   "source": [
    "inner_layer_size = 30\n",
    "def mV(a,b):\n",
    "    return tf.truncated_normal([a,b])\n",
    "\n",
    "w1 = tf.Variable(mV(input_size,inner_layer_size))\n",
    "b1 = tf.Variable(mV(1,inner_layer_size))\n",
    "w2 = tf.Variable(mV(inner_layer,output_size))\n",
    "b2 = tf.Variable(mV(1,output_size))\n",
    "# w3 = tf.Variable(mV(inner_layer,output_size))\n",
    "# b3 = tf.Variable(mV(1,output_size))\n",
    "\n",
    "\n",
    "def tanh(x):\n",
    "    return tf.tanh(x)#xd, najpierw googlaj potem klep\n",
    "    return tf.div(tf.sub(tf.exp(x),tf.exp(tf.negative(x))) ,\n",
    "                  tf.add(tf.exp(x),tf.exp(tf.negative(x))))\n",
    "\n",
    "def tanh_prim(x):\n",
    "    return tf.div(tf.const(1),tf.multiply(tf.cosh(x),tf.cosh(x)))\n"
   ]
  },
  {
   "cell_type": "code",
   "execution_count": null,
   "metadata": {},
   "outputs": [],
   "source": [
    "#Forward pass\n",
    "z1 = tf.add(tf.matmul(x,w1),b1)\n",
    "a1 = tanh(z1)\n",
    "\n",
    "z2 = tf.add(tf.matmul(a1,w2),b2)\n",
    "a2 = tanh(z2)\n",
    "\n",
    "# z3 = tf.add(tf.matmul(a2,w3),b3)\n",
    "# a3 = tanh(z3)\n",
    "\n",
    "loss = tf.subtract(output,a2)\n",
    "\n",
    "d_loss_d_z2 = tf.multiple(tanh_prim(z2),loss)\n",
    "d_loss_d_w2 = tf.matmul(tf.transpose(a1),d_loss_d_z2)\n",
    "d_loss_d_b2 = d_loss_d_z2\n",
    "\n",
    "d_loss_d_a1 = tf.matmul(d_loss_d_z2,tf.tanspose(w2))\n",
    "d_loss_d_z1 = tf.multpiply(d_loss_d_a1,tanh_prim(z1))\n",
    "d_loss_d_b1 = d_loss_d_z1\n",
    "d_loss_d_w1 = tf.matmul(tf.transpose(x),d_loss_d_z1)\n",
    "\n",
    "\n"
   ]
  }
 ],
 "metadata": {
  "kernelspec": {
   "display_name": "Python 3",
   "language": "python",
   "name": "python3"
  },
  "language_info": {
   "codemirror_mode": {
    "name": "ipython",
    "version": 3
   },
   "file_extension": ".py",
   "mimetype": "text/x-python",
   "name": "python",
   "nbconvert_exporter": "python",
   "pygments_lexer": "ipython3",
   "version": "3.7.0"
  }
 },
 "nbformat": 4,
 "nbformat_minor": 2
}
